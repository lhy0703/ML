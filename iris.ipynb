{
 "cells": [
  {
   "cell_type": "code",
   "execution_count": 14,
   "metadata": {},
   "outputs": [],
   "source": [
    "from sklearn.datasets import load_iris\n",
    "from sklearn.tree import DecisionTreeClassifier\n",
    "from sklearn.model_selection import train_test_split\n",
    "from sklearn.tree import export_graphviz\n",
    "iris = load_iris()\n",
    "data = iris['data']\n",
    "target = iris['target']\n",
    "#print(data)\n",
    "x1 = data[:,2]\n",
    "#x1.shape\n",
    "#print(x1.shape)\n",
    "x2 = data[:,3]\n",
    "#x2.shape\n",
    "#print(x2.shape)\n",
    "plt.scatter(x1,x2,c=target)\n",
    "x_train,x_test,y_train,y_test = train_test_split(data,target,test_size=0.33,random_state=42)\n",
    "x_train.shape\n",
    "x_test.shape\n",
    "model = DecisionTreeClassifier(criterion='entropy')\n",
    "model.fit(x_train,y_train)\n",
    "clf.score(x_test,y_test)"
   ]
  }
 ],
 "metadata": {
  "kernelspec": {
   "display_name": "Python 3",
   "language": "python",
   "name": "python3"
  },
  "language_info": {
   "codemirror_mode": {
    "name": "ipython",
    "version": 3
   },
   "file_extension": ".py",
   "mimetype": "text/x-python",
   "name": "python",
   "nbconvert_exporter": "python",
   "pygments_lexer": "ipython3",
   "version": "3.7.3"
  }
 },
 "nbformat": 4,
 "nbformat_minor": 2
}
