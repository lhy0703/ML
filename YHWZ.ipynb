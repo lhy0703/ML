{
 "cells": [
  {
   "cell_type": "code",
   "execution_count": 27,
   "metadata": {},
   "outputs": [],
   "source": [
    "import numpy as np\n",
    "path = \"master/data_set/datingTestSet.txt\""
   ]
  },
  {
   "cell_type": "code",
   "execution_count": 38,
   "metadata": {},
   "outputs": [],
   "source": [
    "data = []\n",
    "labels = []\n",
    "open_file = open(path,mode='r',encoding='GBK')\n",
    "STR = open_file.read()\n",
    "lines =STR.split('\\n')\n",
    "for line in lines[0:500]:\n",
    "    f_l = line.split('\\t')\n",
    "    x1,x2,x3,label = float(f_l[0]),float(f_l[1]),float(f_l[2]),f_l[0]\n",
    "    #print(x1,x2,x3,label)\n",
    "    data.append([x1,x2,x3])\n",
    "    labels.append(label)\n",
    "data = np.array(data)\n",
    "labels= np.array(labels)\n",
    "#print(labels)\n",
    "max_ = np.max(data,axis=0)\n",
    "min_ = np.min(data,axis=0)\n",
    "#print(max_)\n",
    "#print(min_)\n",
    "new_data = (data -min_) / (max_ -min_)\n",
    "#print(new_data)\n",
    "from sklearn.model_selection import train_test_split\n",
    "x_train,x_test,y_train,y_test = train_test_split(new_data,labels,test_size=0.3,random_state=42)\n",
    "#print(x_test.shape)\n",
    "#print(y_train.shape)\n",
    "def KNN_Model(train_data,y_train,test_data,y_test,K):\n",
    "    #1.计算距离\n",
    "    #2.用索引排序\n",
    "    #3.取K值\n",
    "    #4.return\n",
    "    predict_labels = []\n",
    "    for test in test_data:\n",
    "        mins = test - train_data\n",
    "        distance = np.power(np.sum(np.power(mins,2),axis=1),0.5)\n",
    "        argsort =np.argsort(distance)[:K]\n",
    "        labels = y_train[argsort]\n",
    "        for label in labels:\n",
    "            if label not in p_dict:\n",
    "                p_dict[label] = 1\n",
    "            else:\n",
    "                p_dict[label] += 1\n",
    "           \n",
    "    predict_y = sorted(p_dict.items(),key=lambda z:z[1],reverse=True)[0][0]\n",
    "    if predict_y == y_test[i]:\n",
    "         accuracy += 1\n",
    "    print('The test set accurate is {}'.format(accuracy / len(y_test)))\n",
    "    "
   ]
  },
  {
   "cell_type": "code",
   "execution_count": 39,
   "metadata": {
    "scrolled": true
   },
   "outputs": [
    {
     "ename": "SyntaxError",
     "evalue": "invalid syntax (<ipython-input-39-6005952cc8be>, line 1)",
     "output_type": "error",
     "traceback": [
      "\u001b[1;36m  File \u001b[1;32m\"<ipython-input-39-6005952cc8be>\"\u001b[1;36m, line \u001b[1;32m1\u001b[0m\n\u001b[1;33m    KNN_Model(train_data,y_train,test_data,y_test,5):\u001b[0m\n\u001b[1;37m                                                     ^\u001b[0m\n\u001b[1;31mSyntaxError\u001b[0m\u001b[1;31m:\u001b[0m invalid syntax\n"
     ]
    }
   ],
   "source": [
    "KNN_Model(train_data,y_train,test_data,y_test,5):"
   ]
  },
  {
   "cell_type": "code",
   "execution_count": null,
   "metadata": {},
   "outputs": [],
   "source": []
  }
 ],
 "metadata": {
  "kernelspec": {
   "display_name": "Python 3",
   "language": "python",
   "name": "python3"
  },
  "language_info": {
   "codemirror_mode": {
    "name": "ipython",
    "version": 3
   },
   "file_extension": ".py",
   "mimetype": "text/x-python",
   "name": "python",
   "nbconvert_exporter": "python",
   "pygments_lexer": "ipython3",
   "version": "3.7.3"
  }
 },
 "nbformat": 4,
 "nbformat_minor": 2
}
